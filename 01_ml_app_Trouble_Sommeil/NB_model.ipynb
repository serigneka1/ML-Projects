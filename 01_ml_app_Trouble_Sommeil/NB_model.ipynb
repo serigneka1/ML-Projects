{
 "cells": [
  {
   "cell_type": "markdown",
   "id": "771435ef",
   "metadata": {},
   "source": [
    "### Objectif: \n",
    "Prédire le trouble de sommeil chez les éleves."
   ]
  },
  {
   "cell_type": "code",
   "execution_count": 22,
   "id": "ee6a7ed7",
   "metadata": {},
   "outputs": [],
   "source": [
    "# installations\n",
    "# ! pip install pandas matplotlib seaborn scikit-learn \n",
    "# imports\n",
    "from zipfile import ZipFile\n",
    "import pandas as pd\n",
    "import numpy as np\n",
    "import matplotlib.pyplot as plt\n",
    "import seaborn as sns\n",
    "from sklearn.preprocessing import LabelEncoder\n",
    "from sklearn.preprocessing import StandardScaler\n",
    "from sklearn.model_selection import train_test_split\n",
    "from sklearn.linear_model import   RidgeClassifier\n",
    "from sklearn.metrics import accuracy_score\n",
    "import pickle\n"
   ]
  },
  {
   "cell_type": "code",
   "execution_count": 23,
   "id": "6763ae36",
   "metadata": {},
   "outputs": [],
   "source": [
    "# charger les données\n",
    "\n",
    "def get_data(file_name):\n",
    " \n",
    "    # ouvrir le fichier zip et extraires les fichiers dedans\n",
    "    with ZipFile(file_name, 'r') as zip:\n",
    "    # zip.printdir() # pour voir la liste des fichiers dans le zip\n",
    "        zip.extractall()\n",
    "        print('Done!')\n",
    "    df = pd.read_csv(\"Health and Sleep relation 2024/Sleep_health_and_lifestyle_dataset.csv\")\n",
    "    df = df[['Gender', 'Age', 'Occupation', 'Sleep Duration',\n",
    "           'Quality of Sleep', 'Physical Activity Level', 'Stress Level',\n",
    "           'BMI Category', 'Blood Pressure', 'Heart Rate', 'Daily Steps',\n",
    "           'Sleep Disorder']]\n",
    "    return df"
   ]
  },
  {
   "cell_type": "markdown",
   "id": "b14498fa",
   "metadata": {},
   "source": [
    "### Transformations"
   ]
  },
  {
   "cell_type": "code",
   "execution_count": 24,
   "id": "27636968",
   "metadata": {},
   "outputs": [],
   "source": [
    "# fonction de tra,sformation des données\n",
    "def transform_data(data):\n",
    "    df = data.copy()\n",
    "# gèrer les valeurs manquantes\n",
    "    df.isna().sum()/df.shape[0]\n",
    "    df = df.dropna() # Il n'y a que la colonne \"Sleep Disorder\" avec 58% de nan. Je supprime les lignes avec une nan\n",
    "\n",
    "# verfier s'il ya des profils dupliqués et nétoyer\n",
    "    df.duplicated().sum()/df.shape[0]\n",
    "    df.drop_duplicates(inplace=True)\n",
    "\n",
    "# encodage des colonnes avec des données catégorielles\n",
    "    encoder  = LabelEncoder()\n",
    "\n",
    "# encodage manuel\n",
    "    df[\"Gender\"] =  df[\"Gender\"].apply(lambda x: 1 if x == \"Male\" else 0)\n",
    "    df[\"Sleep Disorder\"] = df[\"Sleep Disorder\"].apply(lambda x: 1 if x == 'Sleep Apnea' else 0)\n",
    "\n",
    "# encodage avec LabelEncoder de sklearn\n",
    "    df[\"BMI Category\"] = encoder.fit_transform(df[\"BMI Category\"])\n",
    "    df[\"Occupation\"] = encoder.fit_transform(df[\"Occupation\"])\n",
    "\n",
    "# transformer la colonne Blood Pressure en %\n",
    "    df[[\"Actual_Blood_Pressure\", \"Ref_Blood_Pressure\"]]=  df[\"Blood Pressure\"].str.split(pat=\"/\", n=1, expand=True)\n",
    "    df[\"Blood Pressure (%)\"] = round(df[\"Actual_Blood_Pressure\"].astype(float)/ df[\"Ref_Blood_Pressure\"].astype(float),2)\n",
    "    df = df.drop([\"Blood Pressure\", \"Actual_Blood_Pressure\", \"Ref_Blood_Pressure\"], axis=1)\n",
    "\n",
    "# traduire les titres des colonnes en français\n",
    "    df = df.rename(columns={\n",
    "        \"Gender\": \"sexe\",\n",
    "        \"Age\": \"age\",\n",
    "        \"Occupation\": \"travail\",\n",
    "        \"Sleep Duration\": \"duree_sommeil\",\n",
    "        \"Quality of Sleep\": \"qualite_sommeil\",\n",
    "        \"Physical Activity Level\": \"activite_physique\",\n",
    "        \"Stress Level\": \"niveau_stress\",\n",
    "        \"BMI Category\": \"imc_categorie\",\n",
    "        \"Heart Rate\": \"frequence_cardiaque\",\n",
    "        \"Daily Steps\": \"pas_quotidiens\",\n",
    "        \"Sleep Disorder\": \"trouble_sommeil\",\n",
    "        \"Blood Pressure (%)\": \"pression_arterielle\"\n",
    "    })\n",
    "    return df"
   ]
  },
  {
   "cell_type": "code",
   "execution_count": 25,
   "id": "a56aeeac",
   "metadata": {},
   "outputs": [],
   "source": [
    "# Affichage de la distribution\n",
    "def analyse_distribution(cleaned_data):\n",
    "    df = cleaned_data.copy()\n",
    "\n",
    "    for col in [\"sexe\", \"trouble_sommeil\", \"imc_categorie\", \"travail\", \"pression_arterielle\"]:\n",
    "        df[col].value_counts().plot(kind=\"bar\")\n",
    "        plt.show()"
   ]
  },
  {
   "cell_type": "markdown",
   "id": "3c072acc",
   "metadata": {},
   "source": [
    "### Modélisation"
   ]
  },
  {
   "cell_type": "code",
   "execution_count": 26,
   "id": "c2dc1cdd",
   "metadata": {},
   "outputs": [],
   "source": [
    "# fonction de construction du modèle\n",
    "def build_model(cleaned_data):\n",
    "\n",
    "    df = cleaned_data.copy()\n",
    "    # Split data en features x_train et cible y_train\n",
    "    x = df.drop([\"trouble_sommeil\"], axis=1)\n",
    "    y = df[\"trouble_sommeil\"]\n",
    "\n",
    "    x_train, x_test,  y_train, y_test = train_test_split(x,y, test_size=0.2, random_state=42)\n",
    "\n",
    "    # normaliser \n",
    "    scaler = StandardScaler()\n",
    "    x_train_scaled = scaler.fit_transform(x_train)\n",
    "    x_test_scaled = scaler.transform(x_test)\n",
    "\n",
    "    # entrainer model\n",
    "    classifier = RidgeClassifier()\n",
    "\n",
    "    model= classifier.fit(x_train_scaled, y_train)\n",
    "\n",
    "    # predict\n",
    "    y_pred =model.predict(x_test_scaled)\n",
    "\n",
    "    # score\n",
    "    score = accuracy_score(y_pred, y_test)\n",
    "    score = f\"{round(score*100, 2)}%\"\n",
    "\n",
    "    return model, score, scaler\n"
   ]
  },
  {
   "cell_type": "markdown",
   "id": "805d6cdb",
   "metadata": {},
   "source": [
    "### Sauvegarder le modèle"
   ]
  },
  {
   "cell_type": "code",
   "execution_count": 27,
   "id": "5366a214",
   "metadata": {},
   "outputs": [
    {
     "name": "stdout",
     "output_type": "stream",
     "text": [
      "Done!\n"
     ]
    }
   ],
   "source": [
    "# appel de fonctions pour récupèrer le modèle entrainé\n",
    "raw_data = get_data(\"data.zip\")\n",
    "cleaned_data = transform_data(raw_data)\n",
    "model, score, scaler = build_model(cleaned_data)"
   ]
  },
  {
   "cell_type": "code",
   "execution_count": 28,
   "id": "b0c5f2ed",
   "metadata": {},
   "outputs": [],
   "source": [
    "# sauvegarder le modèle pour réutilisation\n",
    "with open(\"model_files/saved_model.pkl\", \"wb\") as model_file:\n",
    "    pickle.dump(model, model_file)\n",
    "with open(\"model_files/scaler.pkl\", \"wb\") as scaler_file:\n",
    "    pickle.dump(scaler, scaler_file)\n",
    "with open(\"model_files/score.pkl\", \"wb\") as score_file:\n",
    "    pickle.dump(score, score_file)"
   ]
  }
 ],
 "metadata": {
  "kernelspec": {
   "display_name": "Python 3",
   "language": "python",
   "name": "python3"
  },
  "language_info": {
   "codemirror_mode": {
    "name": "ipython",
    "version": 3
   },
   "file_extension": ".py",
   "mimetype": "text/x-python",
   "name": "python",
   "nbconvert_exporter": "python",
   "pygments_lexer": "ipython3",
   "version": "3.13.1"
  }
 },
 "nbformat": 4,
 "nbformat_minor": 5
}
