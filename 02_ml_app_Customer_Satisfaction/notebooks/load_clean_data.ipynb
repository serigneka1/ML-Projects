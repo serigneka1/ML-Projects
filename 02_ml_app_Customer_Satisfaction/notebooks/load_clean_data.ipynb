{
 "cells": [
  {
   "cell_type": "code",
   "execution_count": 101,
   "id": "65df9121",
   "metadata": {},
   "outputs": [],
   "source": [
    "import pandas as pd\n",
    "import numpy as np\n",
    "\n",
    "import matplotlib.pyplot as plt\n",
    "\n",
    "import os\n",
    "\n",
    "from sklearn.preprocessing import StandardScaler\n",
    "from sklearn.model_selection import train_test_split\n",
    "\n",
    "from sklearn.linear_model import LogisticRegression\n",
    "\n",
    "from sklearn.metrics import accuracy_score, confusion_matrix, ConfusionMatrixDisplay"
   ]
  },
  {
   "cell_type": "code",
   "execution_count": 58,
   "id": "78a72a99",
   "metadata": {},
   "outputs": [],
   "source": [
    "data_base_dir = \"../data\"\n",
    "file_name = \"Invistico_Airline.csv\"\n",
    "data_path= os.path.join(data_base_dir, file_name)"
   ]
  },
  {
   "cell_type": "code",
   "execution_count": 59,
   "id": "6eff1ebc",
   "metadata": {},
   "outputs": [
    {
     "data": {
      "text/html": [
       "<div>\n",
       "<style scoped>\n",
       "    .dataframe tbody tr th:only-of-type {\n",
       "        vertical-align: middle;\n",
       "    }\n",
       "\n",
       "    .dataframe tbody tr th {\n",
       "        vertical-align: top;\n",
       "    }\n",
       "\n",
       "    .dataframe thead th {\n",
       "        text-align: right;\n",
       "    }\n",
       "</style>\n",
       "<table border=\"1\" class=\"dataframe\">\n",
       "  <thead>\n",
       "    <tr style=\"text-align: right;\">\n",
       "      <th></th>\n",
       "      <th>satisfaction</th>\n",
       "      <th>Gender</th>\n",
       "      <th>Customer Type</th>\n",
       "      <th>Age</th>\n",
       "      <th>Type of Travel</th>\n",
       "      <th>Class</th>\n",
       "      <th>Flight Distance</th>\n",
       "      <th>Seat comfort</th>\n",
       "      <th>Departure/Arrival time convenient</th>\n",
       "      <th>Food and drink</th>\n",
       "      <th>Gate location</th>\n",
       "      <th>Inflight wifi service</th>\n",
       "      <th>Inflight entertainment</th>\n",
       "      <th>Online support</th>\n",
       "      <th>Ease of Online booking</th>\n",
       "      <th>On-board service</th>\n",
       "      <th>Leg room service</th>\n",
       "      <th>Baggage handling</th>\n",
       "      <th>Checkin service</th>\n",
       "      <th>Cleanliness</th>\n",
       "      <th>Online boarding</th>\n",
       "      <th>Departure Delay in Minutes</th>\n",
       "      <th>Arrival Delay in Minutes</th>\n",
       "    </tr>\n",
       "  </thead>\n",
       "  <tbody>\n",
       "    <tr>\n",
       "      <th>0</th>\n",
       "      <td>satisfied</td>\n",
       "      <td>Female</td>\n",
       "      <td>Loyal Customer</td>\n",
       "      <td>65</td>\n",
       "      <td>Personal Travel</td>\n",
       "      <td>Eco</td>\n",
       "      <td>265</td>\n",
       "      <td>0</td>\n",
       "      <td>0</td>\n",
       "      <td>0</td>\n",
       "      <td>2</td>\n",
       "      <td>2</td>\n",
       "      <td>4</td>\n",
       "      <td>2</td>\n",
       "      <td>3</td>\n",
       "      <td>3</td>\n",
       "      <td>0</td>\n",
       "      <td>3</td>\n",
       "      <td>5</td>\n",
       "      <td>3</td>\n",
       "      <td>2</td>\n",
       "      <td>0</td>\n",
       "      <td>0.0</td>\n",
       "    </tr>\n",
       "    <tr>\n",
       "      <th>1</th>\n",
       "      <td>satisfied</td>\n",
       "      <td>Male</td>\n",
       "      <td>Loyal Customer</td>\n",
       "      <td>47</td>\n",
       "      <td>Personal Travel</td>\n",
       "      <td>Business</td>\n",
       "      <td>2464</td>\n",
       "      <td>0</td>\n",
       "      <td>0</td>\n",
       "      <td>0</td>\n",
       "      <td>3</td>\n",
       "      <td>0</td>\n",
       "      <td>2</td>\n",
       "      <td>2</td>\n",
       "      <td>3</td>\n",
       "      <td>4</td>\n",
       "      <td>4</td>\n",
       "      <td>4</td>\n",
       "      <td>2</td>\n",
       "      <td>3</td>\n",
       "      <td>2</td>\n",
       "      <td>310</td>\n",
       "      <td>305.0</td>\n",
       "    </tr>\n",
       "    <tr>\n",
       "      <th>2</th>\n",
       "      <td>satisfied</td>\n",
       "      <td>Female</td>\n",
       "      <td>Loyal Customer</td>\n",
       "      <td>15</td>\n",
       "      <td>Personal Travel</td>\n",
       "      <td>Eco</td>\n",
       "      <td>2138</td>\n",
       "      <td>0</td>\n",
       "      <td>0</td>\n",
       "      <td>0</td>\n",
       "      <td>3</td>\n",
       "      <td>2</td>\n",
       "      <td>0</td>\n",
       "      <td>2</td>\n",
       "      <td>2</td>\n",
       "      <td>3</td>\n",
       "      <td>3</td>\n",
       "      <td>4</td>\n",
       "      <td>4</td>\n",
       "      <td>4</td>\n",
       "      <td>2</td>\n",
       "      <td>0</td>\n",
       "      <td>0.0</td>\n",
       "    </tr>\n",
       "    <tr>\n",
       "      <th>3</th>\n",
       "      <td>satisfied</td>\n",
       "      <td>Female</td>\n",
       "      <td>Loyal Customer</td>\n",
       "      <td>60</td>\n",
       "      <td>Personal Travel</td>\n",
       "      <td>Eco</td>\n",
       "      <td>623</td>\n",
       "      <td>0</td>\n",
       "      <td>0</td>\n",
       "      <td>0</td>\n",
       "      <td>3</td>\n",
       "      <td>3</td>\n",
       "      <td>4</td>\n",
       "      <td>3</td>\n",
       "      <td>1</td>\n",
       "      <td>1</td>\n",
       "      <td>0</td>\n",
       "      <td>1</td>\n",
       "      <td>4</td>\n",
       "      <td>1</td>\n",
       "      <td>3</td>\n",
       "      <td>0</td>\n",
       "      <td>0.0</td>\n",
       "    </tr>\n",
       "    <tr>\n",
       "      <th>4</th>\n",
       "      <td>satisfied</td>\n",
       "      <td>Female</td>\n",
       "      <td>Loyal Customer</td>\n",
       "      <td>70</td>\n",
       "      <td>Personal Travel</td>\n",
       "      <td>Eco</td>\n",
       "      <td>354</td>\n",
       "      <td>0</td>\n",
       "      <td>0</td>\n",
       "      <td>0</td>\n",
       "      <td>3</td>\n",
       "      <td>4</td>\n",
       "      <td>3</td>\n",
       "      <td>4</td>\n",
       "      <td>2</td>\n",
       "      <td>2</td>\n",
       "      <td>0</td>\n",
       "      <td>2</td>\n",
       "      <td>4</td>\n",
       "      <td>2</td>\n",
       "      <td>5</td>\n",
       "      <td>0</td>\n",
       "      <td>0.0</td>\n",
       "    </tr>\n",
       "  </tbody>\n",
       "</table>\n",
       "</div>"
      ],
      "text/plain": [
       "  satisfaction  Gender   Customer Type  Age   Type of Travel     Class  \\\n",
       "0    satisfied  Female  Loyal Customer   65  Personal Travel       Eco   \n",
       "1    satisfied    Male  Loyal Customer   47  Personal Travel  Business   \n",
       "2    satisfied  Female  Loyal Customer   15  Personal Travel       Eco   \n",
       "3    satisfied  Female  Loyal Customer   60  Personal Travel       Eco   \n",
       "4    satisfied  Female  Loyal Customer   70  Personal Travel       Eco   \n",
       "\n",
       "   Flight Distance  Seat comfort  Departure/Arrival time convenient  \\\n",
       "0              265             0                                  0   \n",
       "1             2464             0                                  0   \n",
       "2             2138             0                                  0   \n",
       "3              623             0                                  0   \n",
       "4              354             0                                  0   \n",
       "\n",
       "   Food and drink  Gate location  Inflight wifi service  \\\n",
       "0               0              2                      2   \n",
       "1               0              3                      0   \n",
       "2               0              3                      2   \n",
       "3               0              3                      3   \n",
       "4               0              3                      4   \n",
       "\n",
       "   Inflight entertainment  Online support  Ease of Online booking  \\\n",
       "0                       4               2                       3   \n",
       "1                       2               2                       3   \n",
       "2                       0               2                       2   \n",
       "3                       4               3                       1   \n",
       "4                       3               4                       2   \n",
       "\n",
       "   On-board service  Leg room service  Baggage handling  Checkin service  \\\n",
       "0                 3                 0                 3                5   \n",
       "1                 4                 4                 4                2   \n",
       "2                 3                 3                 4                4   \n",
       "3                 1                 0                 1                4   \n",
       "4                 2                 0                 2                4   \n",
       "\n",
       "   Cleanliness  Online boarding  Departure Delay in Minutes  \\\n",
       "0            3                2                           0   \n",
       "1            3                2                         310   \n",
       "2            4                2                           0   \n",
       "3            1                3                           0   \n",
       "4            2                5                           0   \n",
       "\n",
       "   Arrival Delay in Minutes  \n",
       "0                       0.0  \n",
       "1                     305.0  \n",
       "2                       0.0  \n",
       "3                       0.0  \n",
       "4                       0.0  "
      ]
     },
     "execution_count": 59,
     "metadata": {},
     "output_type": "execute_result"
    }
   ],
   "source": [
    "pd.set_option('display.max_columns', None)\n",
    "df = pd.read_csv(data_path)\n",
    "df.head(5)"
   ]
  },
  {
   "cell_type": "code",
   "execution_count": 60,
   "id": "a9116c91",
   "metadata": {},
   "outputs": [
    {
     "data": {
      "text/plain": [
       "(129880, 23)"
      ]
     },
     "execution_count": 60,
     "metadata": {},
     "output_type": "execute_result"
    }
   ],
   "source": [
    "df.shape"
   ]
  },
  {
   "cell_type": "code",
   "execution_count": 61,
   "id": "9a603783",
   "metadata": {},
   "outputs": [
    {
     "name": "stdout",
     "output_type": "stream",
     "text": [
      "<class 'pandas.core.frame.DataFrame'>\n",
      "RangeIndex: 129880 entries, 0 to 129879\n",
      "Data columns (total 23 columns):\n",
      " #   Column                             Non-Null Count   Dtype  \n",
      "---  ------                             --------------   -----  \n",
      " 0   satisfaction                       129880 non-null  object \n",
      " 1   Gender                             129880 non-null  object \n",
      " 2   Customer Type                      129880 non-null  object \n",
      " 3   Age                                129880 non-null  int64  \n",
      " 4   Type of Travel                     129880 non-null  object \n",
      " 5   Class                              129880 non-null  object \n",
      " 6   Flight Distance                    129880 non-null  int64  \n",
      " 7   Seat comfort                       129880 non-null  int64  \n",
      " 8   Departure/Arrival time convenient  129880 non-null  int64  \n",
      " 9   Food and drink                     129880 non-null  int64  \n",
      " 10  Gate location                      129880 non-null  int64  \n",
      " 11  Inflight wifi service              129880 non-null  int64  \n",
      " 12  Inflight entertainment             129880 non-null  int64  \n",
      " 13  Online support                     129880 non-null  int64  \n",
      " 14  Ease of Online booking             129880 non-null  int64  \n",
      " 15  On-board service                   129880 non-null  int64  \n",
      " 16  Leg room service                   129880 non-null  int64  \n",
      " 17  Baggage handling                   129880 non-null  int64  \n",
      " 18  Checkin service                    129880 non-null  int64  \n",
      " 19  Cleanliness                        129880 non-null  int64  \n",
      " 20  Online boarding                    129880 non-null  int64  \n",
      " 21  Departure Delay in Minutes         129880 non-null  int64  \n",
      " 22  Arrival Delay in Minutes           129487 non-null  float64\n",
      "dtypes: float64(1), int64(17), object(5)\n",
      "memory usage: 22.8+ MB\n"
     ]
    }
   ],
   "source": [
    "df.info()"
   ]
  },
  {
   "cell_type": "code",
   "execution_count": 62,
   "id": "5c3ecc9e",
   "metadata": {},
   "outputs": [
    {
     "data": {
      "text/plain": [
       "satisfaction                           0\n",
       "Gender                                 0\n",
       "Customer Type                          0\n",
       "Age                                    0\n",
       "Type of Travel                         0\n",
       "Class                                  0\n",
       "Flight Distance                        0\n",
       "Seat comfort                           0\n",
       "Departure/Arrival time convenient      0\n",
       "Food and drink                         0\n",
       "Gate location                          0\n",
       "Inflight wifi service                  0\n",
       "Inflight entertainment                 0\n",
       "Online support                         0\n",
       "Ease of Online booking                 0\n",
       "On-board service                       0\n",
       "Leg room service                       0\n",
       "Baggage handling                       0\n",
       "Checkin service                        0\n",
       "Cleanliness                            0\n",
       "Online boarding                        0\n",
       "Departure Delay in Minutes             0\n",
       "Arrival Delay in Minutes             393\n",
       "dtype: int64"
      ]
     },
     "execution_count": 62,
     "metadata": {},
     "output_type": "execute_result"
    }
   ],
   "source": [
    "df.isna().sum()"
   ]
  },
  {
   "cell_type": "code",
   "execution_count": 63,
   "id": "a380936c",
   "metadata": {},
   "outputs": [],
   "source": [
    "\n",
    "before = df.copy()"
   ]
  },
  {
   "cell_type": "code",
   "execution_count": 64,
   "id": "7143fc3f",
   "metadata": {},
   "outputs": [],
   "source": [
    "# Remplacer les valeurs manquantes par la moyenne\n",
    "# df[\"Arrival Delay in Minutes\"] = df[\"Arrival Delay in Minutes\"]. \\\n",
    "#     fillna(round(df[\"Arrival Delay in Minutes\"].mean(), 2))\n",
    "\n",
    "# Remplacer les valeurs manquantes par les valeurs précédentes, si un train arrives en retard alors probablement le suivant aussi sera en retard\n",
    "df[\"Arrival Delay in Minutes\"] = df[\"Arrival Delay in Minutes\"].bfill()"
   ]
  },
  {
   "cell_type": "code",
   "execution_count": 65,
   "id": "3c6e3199",
   "metadata": {},
   "outputs": [],
   "source": [
    "def clean_data(df):\n",
    "    # Remplacer les valeurs manquantes par la valeur précédente\n",
    "    df[\"Arrival Delay in Minutes\"] = df[\"Arrival Delay in Minutes\"].bfill()\n",
    "\n",
    "    # Renommer les colonnes en français\n",
    "    colonnes_fr = [\n",
    "    'satisfaction',\n",
    "    'genre',\n",
    "    'type_client',\n",
    "    'age',\n",
    "    'type_voyage',\n",
    "    'classe',\n",
    "    'distance_vol',\n",
    "    'confort_siege',\n",
    "    'horaire_dep_arr',\n",
    "    'repas_boisson',\n",
    "    'emplacement_porte',\n",
    "    'wifi_vol',\n",
    "    'divertissement_vol',\n",
    "    'support_en_ligne',\n",
    "    'facilité_reservation',\n",
    "    'service_bord',\n",
    "    'espace_jambes',\n",
    "    'gestion_bagages',\n",
    "    'service_enregistrement',\n",
    "    'propreté',\n",
    "    'embarquement_en_ligne',\n",
    "    'retard_depart_min',\n",
    "    'retard_arrivée_min']\n",
    "    df.columns = colonnes_fr\n",
    "\n",
    "    # Encodage manuel des colonnes catégorielles\n",
    "    df[\"satisfaction\"] = df[\"satisfaction\"].apply(lambda x: 1 if x =='satisfied' else 0)\n",
    "    df[\"genre\"] = df[\"genre\"].apply(lambda x: 1 if x == 'Male' else 0)\n",
    "    df[\"type_client\"] = df[\"type_client\"].apply(lambda x: 1 if x == 'Loyal Customer' else 0)\n",
    "    df[\"type_voyage\"]= df[\"type_voyage\"].apply(lambda x: 1 if x == 'Personal Travel' else 0)\n",
    "    df[\"classe\"] = df[\"classe\"].map({\n",
    "        'Eco': 1,\n",
    "        'Business': 2,\n",
    "        'Eco Plus': 3\n",
    "    })\n",
    "\n",
    "    return df"
   ]
  },
  {
   "cell_type": "code",
   "execution_count": 66,
   "id": "f60c3502",
   "metadata": {},
   "outputs": [
    {
     "data": {
      "text/plain": [
       "Index(['satisfaction', 'Gender', 'Customer Type', 'Age', 'Type of Travel',\n",
       "       'Class', 'Flight Distance', 'Seat comfort',\n",
       "       'Departure/Arrival time convenient', 'Food and drink', 'Gate location',\n",
       "       'Inflight wifi service', 'Inflight entertainment', 'Online support',\n",
       "       'Ease of Online booking', 'On-board service', 'Leg room service',\n",
       "       'Baggage handling', 'Checkin service', 'Cleanliness', 'Online boarding',\n",
       "       'Departure Delay in Minutes', 'Arrival Delay in Minutes'],\n",
       "      dtype='object')"
      ]
     },
     "execution_count": 66,
     "metadata": {},
     "output_type": "execute_result"
    }
   ],
   "source": [
    "df.columns"
   ]
  },
  {
   "cell_type": "code",
   "execution_count": 67,
   "id": "6dfc8b5a",
   "metadata": {},
   "outputs": [],
   "source": [
    "# Renommer les colonnes\n",
    "colonnes_fr = [\n",
    "    'satisfaction',\n",
    "    'genre',\n",
    "    'type_client',\n",
    "    'age',\n",
    "    'type_voyage',\n",
    "    'classe',\n",
    "    'distance_vol',\n",
    "    'confort_siege',\n",
    "    'horaire_dep_arr',\n",
    "    'repas_boisson',\n",
    "    'emplacement_porte',\n",
    "    'wifi_vol',\n",
    "    'divertissement_vol',\n",
    "    'support_en_ligne',\n",
    "    'facilité_reservation',\n",
    "    'service_bord',\n",
    "    'espace_jambes',\n",
    "    'gestion_bagages',\n",
    "    'service_enregistrement',\n",
    "    'propreté',\n",
    "    'embarquement_en_ligne',\n",
    "    'retard_depart_min',\n",
    "    'retard_arrivée_min'\n",
    "]\n",
    "df.columns = colonnes_fr"
   ]
  },
  {
   "cell_type": "code",
   "execution_count": 68,
   "id": "062ab5c3",
   "metadata": {},
   "outputs": [],
   "source": [
    "df[\"satisfaction\"].unique()\n",
    "df[\"genre\"].unique()\n",
    "df[\"type_client\"].unique()\n",
    "df[\"type_voyage\"].unique()\n",
    "df[\"classe\"].unique()\n",
    "\n",
    "# des map pour colonne classe avec catégories > 3\n",
    "mapping_classe = {\n",
    "    'Eco': 1,\n",
    "    'Business': 2,\n",
    "    'Eco Plus': 3\n",
    "}"
   ]
  },
  {
   "cell_type": "code",
   "execution_count": 69,
   "id": "25a16350",
   "metadata": {},
   "outputs": [],
   "source": [
    "# encodage des colonnes catégorielles\n",
    "df[\"satisfaction\"] = df[\"satisfaction\"].apply(lambda x: 1 if x =='satisfied' else 0)\n",
    "df[\"genre\"] = df[\"genre\"].apply(lambda x: 1 if x == 'Male' else 0)\n",
    "df[\"type_client\"] = df[\"type_client\"].apply(lambda x: 1 if x == 'Loyal Customer' else 0)\n",
    "df[\"type_voyage\"]= df[\"type_voyage\"].apply(lambda x: 1 if x == 'Personal Travel' else 0)\n",
    "df[\"classe\"] = df[\"classe\"].map({\n",
    "    'Eco': 1,\n",
    "    'Business': 2,\n",
    "    'Eco Plus': 3\n",
    "})"
   ]
  },
  {
   "cell_type": "code",
   "execution_count": 70,
   "id": "bd582825",
   "metadata": {},
   "outputs": [
    {
     "data": {
      "text/plain": [
       "satisfaction\n",
       "1    0.547328\n",
       "0    0.452672\n",
       "Name: count, dtype: float64"
      ]
     },
     "execution_count": 70,
     "metadata": {},
     "output_type": "execute_result"
    },
    {
     "data": {
      "image/png": "[encoded data removed]",
      "text/plain": [
       "<Figure size 640x480 with 1 Axes>"
      ]
     },
     "metadata": {},
     "output_type": "display_data"
    }
   ],
   "source": [
    "# Analyse exploratoire\n",
    "\n",
    "df.satisfaction.value_counts().plot(kind=\"bar\")\n",
    "df.satisfaction.value_counts()/df.shape[0]"
   ]
  },
  {
   "cell_type": "markdown",
   "id": "ae981171",
   "metadata": {},
   "source": [
    "La répartition des clients selon leur niveau de satisfaction est relativement équilibrée, avec 54,73 % de clients satisfaits et 45,27 % de clients insatisfaits."
   ]
  },
  {
   "cell_type": "code",
   "execution_count": 72,
   "id": "0ef4eeee",
   "metadata": {},
   "outputs": [
    {
     "data": {
      "text/plain": [
       "genre\n",
       "0    0.507384\n",
       "1    0.492616\n",
       "Name: count, dtype: float64"
      ]
     },
     "execution_count": 72,
     "metadata": {},
     "output_type": "execute_result"
    },
    {
     "data": {
      "image/png": "[encoded data removed]",
      "text/plain": [
       "<Figure size 640x480 with 1 Axes>"
      ]
     },
     "metadata": {},
     "output_type": "display_data"
    }
   ],
   "source": [
    "df.genre.value_counts().plot(kind=\"bar\")\n",
    "df.genre.value_counts()/df.shape[0]"
   ]
  },
  {
   "cell_type": "markdown",
   "id": "91e37bb3",
   "metadata": {},
   "source": [
    "La composition par genre de la clientèle présente une répartition relativement équilibrée, avec 50,74 % de clientes et \n",
    "49,26 % de clients."
   ]
  },
  {
   "cell_type": "code",
   "execution_count": 73,
   "id": "00f9ed10",
   "metadata": {},
   "outputs": [
    {
     "data": {
      "text/plain": [
       "type_client\n",
       "1    0.816908\n",
       "0    0.183092\n",
       "Name: count, dtype: float64"
      ]
     },
     "execution_count": 73,
     "metadata": {},
     "output_type": "execute_result"
    },
    {
     "data": {
      "image/png": "[encoded data removed]",
      "text/plain": [
       "<Figure size 640x480 with 1 Axes>"
      ]
     },
     "metadata": {},
     "output_type": "display_data"
    }
   ],
   "source": [
    "df.type_client.value_counts().plot(kind=\"bar\")\n",
    "df.type_client.value_counts()/df.shape[0]\n",
    "# (df.type_client.value_counts()/df.shape[0])[1] /(df.type_client.value_counts()/df.shape[0])[0]\n"
   ]
  },
  {
   "cell_type": "markdown",
   "id": "fc975f60",
   "metadata": {},
   "source": [
    " Il existe une forte disparité entre le nombre de clients fidèles et celui des clients non fidèles. On compte 4,61 fois plus de clients fidèles que de clients non fidèles, soit 81,7 % de clients fidèles contre 18,3 % de clients non fidèles.\n",
    " \n",
    " Cette prédominance des clients fidèles peut traduire une bonne satisfaction générale, mais elle souligne également un déséquilibre à prendre en compte lors de l'entraînement des modèles prédictifs, notamment pour éviter un biais en faveur de la classe majoritaire."
   ]
  },
  {
   "cell_type": "code",
   "execution_count": 74,
   "id": "43563c5a",
   "metadata": {},
   "outputs": [
    {
     "data": {
      "text/plain": [
       "count    129880.000000\n",
       "mean         39.427957\n",
       "std          15.119360\n",
       "min           7.000000\n",
       "25%          27.000000\n",
       "50%          40.000000\n",
       "75%          51.000000\n",
       "max          85.000000\n",
       "Name: age, dtype: float64"
      ]
     },
     "execution_count": 74,
     "metadata": {},
     "output_type": "execute_result"
    }
   ],
   "source": [
    "df.age.describe()"
   ]
  },
  {
   "cell_type": "markdown",
   "id": "c6dd70d5",
   "metadata": {},
   "source": [
    "L’âge moyen des voyageurs est de 39,43 ans, avec un écart-type de 15,11 ans, indiquant une grande dispersion autour de la moyenne. Les âges s’étendent de 7 à 85 ans, mais la majorité des passagers se situe entre 27 et 51 ans (entre le 1er et le 3e quartile).\n",
    "La médiane est de 40 ans, très proche de la moyenne, ce qui suggère une distribution quasi symétrique, bien que légèrement asymétrique à gauche.\n",
    "Un boxplot permettrait de visualiser cette dispersion, d’identifier d’éventuels outliers, et de mieux comprendre la répartition des âges."
   ]
  },
  {
   "cell_type": "code",
   "execution_count": 75,
   "id": "bc1607f4",
   "metadata": {},
   "outputs": [
    {
     "data": {
      "text/plain": [
       "<Axes: >"
      ]
     },
     "execution_count": 75,
     "metadata": {},
     "output_type": "execute_result"
    },
    {
     "data": {
      "image/png": "[encoded data removed]",
      "text/plain": [
       "<Figure size 640x480 with 1 Axes>"
      ]
     },
     "metadata": {},
     "output_type": "display_data"
    }
   ],
   "source": [
    "df.boxplot(column=\"age\")"
   ]
  },
  {
   "cell_type": "code",
   "execution_count": 78,
   "id": "05a55d03",
   "metadata": {},
   "outputs": [],
   "source": [
    "# Diviser le dataframe\n",
    "\n",
    "X = df.drop([\"satisfaction\"], axis=1 )\n",
    "y = df[\"satisfaction\"]"
   ]
  },
  {
   "cell_type": "code",
   "execution_count": 82,
   "id": "8223b899",
   "metadata": {},
   "outputs": [],
   "source": [
    "# diver en données d'entrainement et de test\n",
    "\n",
    "X_train, X_test, y_train, y_test = train_test_split(X, y, test_size=0.33, random_state=42)"
   ]
  },
  {
   "cell_type": "code",
   "execution_count": 87,
   "id": "542d6356",
   "metadata": {},
   "outputs": [],
   "source": [
    "# Normaliser les données\n",
    "scaler = StandardScaler()\n",
    "\n",
    "X_train_scaled = scaler.fit_transform(X_train)\n",
    "X_test_scaled = scaler.fit_transform(X_test)"
   ]
  },
  {
   "cell_type": "code",
   "execution_count": 93,
   "id": "b238ac30",
   "metadata": {},
   "outputs": [],
   "source": [
    "# Entrainer le modèle\n",
    "\n",
    "lr = LogisticRegression()\n",
    "modele = lr.fit(X_train_scaled, y_train)"
   ]
  },
  {
   "cell_type": "code",
   "execution_count": 98,
   "id": "b71c549c",
   "metadata": {},
   "outputs": [],
   "source": [
    "# Evaluer le modele\n",
    "\n",
    "y_pred = modele.predict(X_test_scaled)\n",
    "\n",
    "score = accuracy_score(y_test, y_pred)\n",
    "score_matrice = confusion_matrix(y_test, y_pred)"
   ]
  },
  {
   "cell_type": "code",
   "execution_count": 105,
   "id": "d0b5da6f",
   "metadata": {},
   "outputs": [
    {
     "data": {
      "image/png": "[encoded data removed]",
      "text/plain": [
       "<Figure size 640x480 with 2 Axes>"
      ]
     },
     "metadata": {},
     "output_type": "display_data"
    }
   ],
   "source": [
    "cm_display = ConfusionMatrixDisplay(score_matrice, display_labels = [0, 1])\n",
    "\n",
    "cm_display.plot()\n",
    "plt.show()"
   ]
  },
  {
   "cell_type": "code",
   "execution_count": 99,
   "id": "5cbddb60",
   "metadata": {},
   "outputs": [
    {
     "data": {
      "text/plain": [
       "0.8332283427824829"
      ]
     },
     "execution_count": 99,
     "metadata": {},
     "output_type": "execute_result"
    }
   ],
   "source": [
    "score"
   ]
  },
  {
   "cell_type": "code",
   "execution_count": 106,
   "id": "c397c565",
   "metadata": {},
   "outputs": [
    {
     "data": {
      "text/plain": [
       "<sklearn.metrics._plot.confusion_matrix.ConfusionMatrixDisplay at 0x1bd89fe3070>"
      ]
     },
     "execution_count": 106,
     "metadata": {},
     "output_type": "execute_result"
    },
    {
     "data": {
      "image/png": "[encoded data removed]",
      "text/plain": [
       "<Figure size 640x480 with 2 Axes>"
      ]
     },
     "metadata": {},
     "output_type": "display_data"
    }
   ],
   "source": [
    "ConfusionMatrixDisplay.from_estimator(\n",
    "    modele, X_test_scaled, y_test)"
   ]
  },
  {
   "cell_type": "code",
   "execution_count": null,
   "id": "c9d4b1d9",
   "metadata": {},
   "outputs": [],
   "source": []
  }
 ],
 "metadata": {
  "kernelspec": {
   "display_name": ".venv",
   "language": "python",
   "name": "python3"
  },
  "language_info": {
   "codemirror_mode": {
    "name": "ipython",
    "version": 3
   },
   "file_extension": ".py",
   "mimetype": "text/x-python",
   "name": "python",
   "nbconvert_exporter": "python",
   "pygments_lexer": "ipython3",
   "version": "3.10.0"
  }
 },
 "nbformat": 4,
 "nbformat_minor": 5
}
